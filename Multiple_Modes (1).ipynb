{
 "cells": [
  {
   "cell_type": "code",
   "execution_count": 1,
   "metadata": {},
   "outputs": [
    {
     "name": "stdout",
     "output_type": "stream",
     "text": [
      "t\n",
      "dict_items([('t', 2), ('o', 2), ('m', 1), ('a', 1)])\n"
     ]
    }
   ],
   "source": [
    "data = (\"tomato\")\n",
    "def modes(data):\n",
    "    f = {}\n",
    "    for x in data:\n",
    "        if x in f:\n",
    "            f[x] += 1\n",
    "        else:\n",
    "            f[x] = 1\n",
    "    return f\n",
    "    \n",
    "print(max(modes(data)))\n",
    "print(modes(data).items())"
   ]
  },
  {
   "cell_type": "code",
   "execution_count": 36,
   "metadata": {},
   "outputs": [
    {
     "name": "stdout",
     "output_type": "stream",
     "text": [
      "['t', 'o']\n"
     ]
    }
   ],
   "source": [
    "data = (\"toto\")\n",
    "def modes(data):\n",
    "    f = {}\n",
    "    for x in data:\n",
    "        if x in f:\n",
    "            f[x] += 1\n",
    "        else:\n",
    "            f[x] = 1\n",
    "    mode = max(f.values())\n",
    "    minimum = min(f.values())\n",
    "    return [key for key, value in f.items() if value == mode]\n",
    "\n",
    "print(modes(data))"
   ]
  },
  {
   "cell_type": "code",
   "execution_count": 65,
   "metadata": {},
   "outputs": [
    {
     "name": "stdout",
     "output_type": "stream",
     "text": [
      "['o']\n"
     ]
    }
   ],
   "source": [
    "data = (\"ooro\")\n",
    "def modes(data):\n",
    "    f = {}\n",
    "    answer = []\n",
    "    for x in data:\n",
    "        if x in f:\n",
    "            f[x] += 1\n",
    "        else:\n",
    "            f[x] = 1\n",
    "    mode = max(f.values())\n",
    "    minimum = min(f.values())\n",
    "    if mode == minimum:\n",
    "        return None\n",
    "    else:\n",
    "        return [key for key, value in f.items() if value == mode]\n",
    "    return sorted(modes(data))\n",
    "\n",
    "print(modes(data))"
   ]
  },
  {
   "cell_type": "code",
   "execution_count": 49,
   "metadata": {},
   "outputs": [
    {
     "name": "stdout",
     "output_type": "stream",
     "text": [
      "None\n"
     ]
    }
   ],
   "source": [
    "data = (\"pineapple\")\n",
    "def modes(data):\n",
    "    f = {}\n",
    "    answer = []\n",
    "    for x in data:\n",
    "        if x in f:\n",
    "            f[x] += 1\n",
    "        else:\n",
    "            f[x] = 1\n",
    "    mode = max(f.values())\n",
    "    minimum = min(f.values())\n",
    "    if mode == minimum:\n",
    "        return None\n",
    "    else:\n",
    "        return answer.append([key for key, value in f.items() if value == mode])\n",
    "\n",
    "print(modes(data))\n"
   ]
  },
  {
   "cell_type": "code",
   "execution_count": 71,
   "metadata": {},
   "outputs": [
    {
     "name": "stdout",
     "output_type": "stream",
     "text": [
      "['o', 't']\n"
     ]
    }
   ],
   "source": [
    "data = (\"tomato\")\n",
    "def modes(data):\n",
    "    f = {}\n",
    "    for x in data:\n",
    "        if x in f:\n",
    "            f[x] += 1\n",
    "        else:\n",
    "            f[x] = 1\n",
    "    mode = max(f.values())\n",
    "    minimum = min(f.values())\n",
    "    if mode == minimum:\n",
    "        return []\n",
    "    answer = []\n",
    "    for key in f.keys():\n",
    "        if f[key] == mode:\n",
    "            answer.append(key)\n",
    "    return sorted(answer)\n",
    "\n",
    "print(modes(data))\n"
   ]
  },
  {
   "cell_type": "code",
   "execution_count": 80,
   "metadata": {},
   "outputs": [
    {
     "name": "stdout",
     "output_type": "stream",
     "text": [
      "[['y', 'e']]\n"
     ]
    }
   ],
   "source": [
    "data = (\"yeyen\")\n",
    "def modes(data):\n",
    "    f = {}\n",
    "    answer = []\n",
    "    for x in data:\n",
    "        if x in f:\n",
    "            f[x] += 1\n",
    "        else:\n",
    "            f[x] = 1\n",
    "    mode = max(f.values())\n",
    "    minimum = min(f.values())\n",
    "    answer.append([key for key, value in f.items() if value == mode and value != minimum])\n",
    "    return sorted(answer)\n",
    "#why won't it sort the list?\n",
    "print(modes(data))"
   ]
  },
  {
   "cell_type": "code",
   "execution_count": null,
   "metadata": {
    "collapsed": true
   },
   "outputs": [],
   "source": []
  }
 ],
 "metadata": {
  "kernelspec": {
   "display_name": "Python 3",
   "language": "python",
   "name": "python3"
  },
  "language_info": {
   "codemirror_mode": {
    "name": "ipython",
    "version": 3
   },
   "file_extension": ".py",
   "mimetype": "text/x-python",
   "name": "python",
   "nbconvert_exporter": "python",
   "pygments_lexer": "ipython3",
   "version": "3.6.3"
  }
 },
 "nbformat": 4,
 "nbformat_minor": 2
}
